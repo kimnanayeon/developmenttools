{
 "cells": [
  {
   "cell_type": "markdown",
   "metadata": {},
   "source": [
    "# Topic Modeling with Sklearn\n",
    "## 영화 리뷰 데이터를 이용하여 topic modeling을 학습"
   ]
  },
  {
   "cell_type": "code",
   "execution_count": 2,
   "metadata": {},
   "outputs": [],
   "source": [
    "import os\n",
    "\n",
    "currentPath=os.getcwd()\n",
    "\n",
    "os.chdir('C:/Users/nayeonkim/Desktop') #작업 디렉토리를 바탕화면으로 변경 "
   ]
  },
  {
   "cell_type": "code",
   "execution_count": 4,
   "metadata": {},
   "outputs": [],
   "source": [
    "#다음무비에서 추출한 영화 리뷰를 불러오기\n",
    "\n",
    "import csv\n",
    "text = []\n",
    "y = []\n",
    "\n",
    "with open('movie_data.csv', encoding='utf-8') as csvfile:\n",
    "    csvreader = csv.reader(csvfile)\n",
    "    for row in csvreader:\n",
    "        #print(row)\n",
    "        if row and len(row[0]) > 10: #review 길이가 10자 이상인 경우만\n",
    "#if row: #그 줄에 내용이 있는 경우에만\n",
    "            text.append(row[0]) #영화 리뷰를 text 리스트에 추가\n",
    "            y.append(row[2]) #영화이름을 text 리스트에 추가"
   ]
  },
  {
   "cell_type": "code",
   "execution_count": 5,
   "metadata": {},
   "outputs": [
    {
     "name": "stdout",
     "output_type": "stream",
     "text": [
      "리뷰 수: 1461\n",
      "리뷰영화: {'곤지암', '신과함께', '코코', '라라랜드', '인피니티 워'}\n"
     ]
    }
   ],
   "source": [
    "print('리뷰 수:', len(text))\n",
    "print('리뷰영화:', set(y))"
   ]
  },
  {
   "cell_type": "code",
   "execution_count": 6,
   "metadata": {},
   "outputs": [
    {
     "data": {
      "text/plain": [
       "['크레딧 올라올때부터 충격먹었어요 ㅋㅋㅋㅋ 나중에 더큰 활약기대하겠습니다! 와칸다포에버!!!!',\n",
       " '이제 남은건타노스 밖에',\n",
       " '타노스는 발암물질이다.',\n",
       " '괜찮았음. 그런데 도끼자루의 그루트목재는 도끼힘을 감당하는데, 타노스한테는 훕! 한방에 쪼개지는게 옥의티랄까요.',\n",
       " '개인적으론 명작이라고 생각함.',\n",
       " '재밌게 봤습니다!역시 마블영화!',\n",
       " '재미있게 봤어요 어밴져는 4나올듯',\n",
       " '꿀잼~ 와칸다 포에버!',\n",
       " '처음부터 끝까지 전투',\n",
       " '이 영화가 재미없다니 5번이나 봤다 나는 1000만 관객 돌파 영상도 영화 상영 전에 찍은거면 말 다했다']"
      ]
     },
     "execution_count": 6,
     "metadata": {},
     "output_type": "execute_result"
    }
   ],
   "source": [
    "text[:10]"
   ]
  },
  {
   "cell_type": "code",
   "execution_count": 7,
   "metadata": {},
   "outputs": [],
   "source": [
    "#한글 처리를 위해서는 konlpy가 필요\n",
    "\n",
    "from konlpy.tag import Okt #konlpy에서 Twitter 형태소 분석기를 import\n",
    "twitter_tag = Okt()\n",
    "\n",
    "from sklearn.feature_extraction.text import CountVectorizer\n",
    "\n",
    "vec = CountVectorizer(tokenizer=twitter_tag.nouns, #우선은 명사만 사용\n",
    "                      decode_error ='ignore', \n",
    "                      max_df=0.5, #너무 자주 나타나는 단어는 제외, 책에서는 0.15를 사용\n",
    "                      #min_df = 3, #3개 미만의 문서에서 나타난 단어는 제외, 여기서는 max_features를 1000으로 제한하므로 별 필요 없음\n",
    "                      max_features = 1000) #적당한 대상 단어 수를 선택\n",
    "review_cv = vec.fit_transform(text)"
   ]
  },
  {
   "cell_type": "code",
   "execution_count": 8,
   "metadata": {},
   "outputs": [
    {
     "data": {
      "text/plain": [
       "(1461, 1000)"
      ]
     },
     "execution_count": 8,
     "metadata": {},
     "output_type": "execute_result"
    }
   ],
   "source": [
    "review_cv.shape"
   ]
  },
  {
   "cell_type": "code",
   "execution_count": 9,
   "metadata": {},
   "outputs": [],
   "source": [
    "#sklearn의 LatentDirichletAllocation을 이용하여 topic modeling 수행\n",
    "\n",
    "from sklearn.decomposition import LatentDirichletAllocation\n",
    "\n",
    "lda = LatentDirichletAllocation(n_components = 10, #추출할 topic의 수를 지정\n",
    "                                max_iter=25, #max_iter는 최종 모형에서는 5,000~10,000번 시도한다고 알려져 있음\n",
    "                                topic_word_prior= 0.1, doc_topic_prior=1.0,\n",
    "                                #topic_word_prior: beta, doc_topic_prior: alpha\n",
    "                                #일반적으로 beta는 0.1로 고정하고 alpha를 50/topic의 수 근처의 값을 시도\n",
    "                                #alpha와 beta는 낮은 값을 사용할수록 특정 토픽들이 두드러지도록 하는 효과가 있다고 합\n",
    "                                learning_method='batch', #'batch'는 'online'에 비해 더 성능이 좋고 느림, 현재는 default\n",
    "                                n_jobs= -1, #사용 processor 수, None이면 1, -1이면 모두 사용\n",
    "                                random_state=0)\n",
    "\n",
    "review_topics = lda.fit_transform(review_cv)"
   ]
  },
  {
   "cell_type": "code",
   "execution_count": 10,
   "metadata": {},
   "outputs": [
    {
     "name": "stdout",
     "output_type": "stream",
     "text": [
      "topic-word distribution dimension: (10, 1000)\n",
      "document-topic distribution dimenstion (1461, 10)\n"
     ]
    }
   ],
   "source": [
    "print('topic-word distribution dimension:', lda.components_.shape)\n",
    "print('document-topic distribution dimenstion', review_topics.shape)"
   ]
  },
  {
   "cell_type": "code",
   "execution_count": 11,
   "metadata": {},
   "outputs": [],
   "source": [
    "#topic을 보기 쉽게 출력하는 함수를 작성\n",
    "def print_top_words(model, feature_names, n_top_words):\n",
    "    for topic_idx, topic in enumerate(model.components_):\n",
    "        print(\"Topic #%d: \" % topic_idx, end='')\n",
    "        print(\", \".join([feature_names[i] for i in topic.argsort()[:-n_top_words - 1:-1]]))\n",
    "        #print(\", \".join([feature_names[i]+'('+str(topic[i])+')' for i in topic.argsort()[:-n_top_words - 1:-1]]))\n",
    "        # 위 slicing에서 맨 뒤 -1은 역순을 의미, 역순으로 했을 때 처음부터 n_top_words까지\n",
    "    print()"
   ]
  },
  {
   "cell_type": "code",
   "execution_count": 12,
   "metadata": {},
   "outputs": [
    {
     "name": "stdout",
     "output_type": "stream",
     "text": [
      "Topic #0: 감동, 재미, 가족, 내용, 정도, 기억, 역시, 디즈니, 노래, 별로\n",
      "Topic #1: 음악, 배우, 공포영화, 연기, 한국, 처음, 느낌, 임, 소리, 위\n",
      "Topic #2: 돈, 사람, 영화, 뭐, 감독, 차태현, 걸, 애, 개, 이건\n",
      "Topic #3: 것, 말, 부분, 사람, 인생, 조금, 이상, 한국영, 어머니, 엔딩\n",
      "Topic #4: 사랑, 마블, 최고, 꿈, 편, 노스, 하나, 다시, 다음, 몰입\n",
      "Topic #5: 마지막, 영화, 스토리, 볼, 더, 나, 장면, 또, 관객, 번\n",
      "Topic #6: 영화, 이, 점, 평점, 왜, 수, 내, 수준, 코코, 애니메이션\n",
      "Topic #7: 시간, 생각, 영화, 때, 기대, 그, 안, 듯, 분, 만\n",
      "Topic #8: 영화, 좀, 그냥, 귀신, 공포, 원작, 연출, 곤지암, 뮤지컬, 줄\n",
      "Topic #9: 정말, 진짜, 보고, 눈물, 끝, 중간, 작품, 완전, 저, 공포\n",
      "\n"
     ]
    }
   ],
   "source": [
    "print_top_words(lda,vec.get_feature_names(), 10)"
   ]
  },
  {
   "cell_type": "code",
   "execution_count": 13,
   "metadata": {},
   "outputs": [
    {
     "data": {
      "text/plain": [
       "['이제', '노스']"
      ]
     },
     "execution_count": 13,
     "metadata": {},
     "output_type": "execute_result"
    }
   ],
   "source": [
    "#한 자로 구성된 명사들은 의미파악이 어려우므로 삭제할 필요가 있음\n",
    "#두 자 이상만 반환하는 함수를 작성\n",
    "\n",
    "twitter_tag.nouns(text[1])"
   ]
  },
  {
   "cell_type": "code",
   "execution_count": 14,
   "metadata": {},
   "outputs": [],
   "source": [
    "def tokenizer(str):\n",
    "    return [token for token in twitter_tag.nouns(str) if len(token) > 1]"
   ]
  },
  {
   "cell_type": "code",
   "execution_count": 15,
   "metadata": {},
   "outputs": [
    {
     "data": {
      "text/plain": [
       "['이제', '노스']"
      ]
     },
     "execution_count": 15,
     "metadata": {},
     "output_type": "execute_result"
    }
   ],
   "source": [
    "tokenizer(text[1])"
   ]
  },
  {
   "cell_type": "code",
   "execution_count": 16,
   "metadata": {},
   "outputs": [],
   "source": [
    "#count vector 새로 생성\n",
    "vec = CountVectorizer(tokenizer=tokenizer, decode_error ='ignore', \n",
    "                      max_df=0.5, max_features = 1000) #너무 자주 나타나는 단어는 제외\n",
    "review_cv = vec.fit_transform(text)"
   ]
  },
  {
   "cell_type": "code",
   "execution_count": 17,
   "metadata": {},
   "outputs": [
    {
     "name": "stdout",
     "output_type": "stream",
     "text": [
      "Topic #0: 공포영화, 한국, 중간, 명작, 판타지, 취향, 비명, 철학, 이전, 런가\n",
      "Topic #1: 처음, 느낌, 연출, 전혀, 긴장감, 가슴, 갈수록, 장난, 라이언, 전형\n",
      "Topic #2: 영화, 위해, 멕시코, 시나리오, 갑자기, 의도, 엉망, 용이, 졸리, 주제가\n",
      "Topic #3: 진짜, 웹툰, 아주, 소문, 주제, 옛날, 기준, 전통, 걸작, 입장\n",
      "Topic #4: 정말, 시작, 알바, 차라리, 토르, 개봉, 미아, 영화, 마법, 오프닝\n",
      "Topic #5: 배우, 히어로, 여자, 표현, 세계관, 전편, 훌쩍, 반감, 평론가, 해피엔딩\n",
      "Topic #6: 가족, 대한, 전개, 설정, 저승, 흐름, 정신, 서도, 강추, 잠깐\n",
      "Topic #7: 평점, 최악, 짜증, 후반, 레이브, 카운터, 누가, 기본, 닥터, 연결\n",
      "Topic #8: 공포, 정도, 액션, 영화로, 오히려, 낭비, 실제, 이자, 그것, 정신병원\n",
      "Topic #9: 그냥, 신파, 이하, 호러, 아쉬움, 마케팅, 보라, 만하, 논리, 시각\n",
      "Topic #10: 영화, 가장, 영화관, 외국, 환상, 스케일, 매력, 인정, 진심, 마치\n",
      "Topic #11: 감동, 별로, 겨울왕국, 존재, 상상력, 여기, 나라, 연속, 동원, 심지어\n",
      "Topic #12: 영화, 마음, 뮤지컬, 나이, 감성, 상상, 수도, 문화, 항상, 여성\n",
      "Topic #13: 영화, 나름, 서로, 사실, 흥행, 끼리, 국내, 귀가, 새끼, 싸움\n",
      "Topic #14: 보지, 집중, 극장, 제발, 점수, 박수, 라면, 예고편, 오달수, 바보\n",
      "Topic #15: 어벤져스, 모든, 관객수, 세계, 티비, 출연, 유머, 채널, 심장, 가치\n",
      "Topic #16: 개인, 추천, 죽음, 블레어, 결론, 유치, 기도, 간만, 영화, 지루함\n",
      "Topic #17: 때문, 영화, 절대, 가면, 댓글, 구성, 수작, 사후세계, 우주, 인물\n",
      "Topic #18: 영화, 이영화, 주인공, 예상, 블랙, 오브, 백만, 한참, 제작비, 가디언즈\n",
      "Topic #19: 마블, 노스, 노력, 번역, 볼거리, 호불호, 어벤저스, 코드, 샤바, 헐크\n",
      "Topic #20: 마지막, 문제, 제대로, 공감, 상미, 개연, 요소, 어디, 오역, 개판\n",
      "Topic #21: 생각, 음악, 화면, 주지훈, 아무, 그동안, 만듬, 밸런스, 가끔, 단순\n",
      "Topic #22: 영화, 다큐, 페이크, 얘기, 드라마, 라라, 머리, 자신, 미소, 편도\n",
      "Topic #23: 귀신, 부분, 혼자, 우리, 일단, 코믹, 정서, 먼저, 형식, 아이디어\n",
      "Topic #24: 이해, 수준, 한국영, 그래픽, 일본, 헐리웃, 화의, 발전, 기법, 그닥\n",
      "Topic #25: 내용, 하나, 상영, 가지, 무서움, 영화, 졸작, 속편, 얼마, 모티브\n",
      "Topic #26: 다시, 원작, 완전, 인간, 역대, 재판, 어이, 랜드, 그게, 비교\n",
      "Topic #27: 아들, 영화, 미국, 엠마, 순간, 효과, 초딩, 킬링타임, 팝콘, 뮤지컬영화\n",
      "Topic #28: 영화, 매우, 우리나라, 또한, 매니아, 몰입도, 시간, 세월, 내년, 인사\n",
      "Topic #29: 보고, 어머니, 픽사, 마무리, 이유, 자홍, 교훈, 강림, 해원, 콧구멍\n",
      "Topic #30: 기억, 소리, 소재, 영화, 완성, 잘만, 각본, 최고다, 경험, 제사\n",
      "Topic #31: 영화, 후회, 배경, 줄거리, 신파극, 억지로, 감상, 코미디, 다가, 반성\n",
      "Topic #32: 영화, 여운, 스톤, 얼마나, 슬링, 공포물, 결혼, 로맨스, 주연, 스포\n",
      "Topic #33: 재미, 디즈니, 실망, 뭔가, 이제, 카메라, 동안, 샬롯, 대결, 걱정\n",
      "Topic #34: 장면, 결말, 영상, 한번, 다운, 피아노, 재즈, 구조, 친구, 세바스찬\n",
      "Topic #35: 연기, 차태현, 중반, 김동욱, 이후, 대사, 하정우, 시리즈, 전반, 분위기\n",
      "Topic #36: 곤지암, 초반, 엄마, 계속, 관람, 쓰레기, 제일, 표절, 연기자, 인칭\n",
      "Topic #37: 이야기, 코코, 노래, 애니, 만화, 할머니, 미구엘, 조상, 전체, 약간\n",
      "Topic #38: 스토리, 영화, 내내, 해도, 각자, 스타일, 체험, 동생, 차사, 의견\n",
      "Topic #39: 사람, 모두, 인피니티, 거리, 세상, 점도, 이번, 악당, 그리움, 실사\n",
      "Topic #40: 남자, 인상, 도대체, 성공, 노잼, 나중, 사회, 모습, 대해, 범죄자\n",
      "Topic #41: 기대, 작품, 자체, 대박, 감정, 징악, 권선, 스릴, 로서, 해석\n",
      "Topic #42: 영화, 최고, 인생, 울면, 자가, 단어, 처리, 아이러니, 청춘, 헐리우드\n",
      "Topic #43: 다음, 이상, 캐릭터, 연기력, 무슨, 등장, 더욱, 영화인, 참나, 무비\n",
      "Topic #44: 눈물, 시간, 애니메이션, 억지, 지옥, 거의, 어찌, 거지, 기담, 선율\n",
      "Topic #45: 감독, 무엇, 의미, 기분, 천만이, 짬뽕, 영화, 이름, 한마디, 중국\n",
      "Topic #46: 사랑, 관객, 천만, 다른, 지금, 얼굴, 홍보, 제목, 원래, 누군가\n",
      "Topic #47: 역시, 이건, 보기, 펑펑, 촬영, 부모님, 거기, 오늘, 아빠, 고요\n",
      "Topic #48: 몰입, 조금, 편이, 만큼, 상황, 잔치, 만화영화, 과정, 한편, 크게\n",
      "Topic #49: 현실, 아이, 반전, 엔딩, 어른, 웃음, 추억, 시대, 굳이, 주르륵\n",
      "\n"
     ]
    }
   ],
   "source": [
    "#topic modeling 수행\n",
    "lda = LatentDirichletAllocation(n_components = 50, max_iter=25, \n",
    "                                topic_word_prior= 0.1, doc_topic_prior=1.0,\n",
    "                                learning_method='batch',\n",
    "                                n_jobs= -1,\n",
    "                                random_state=0)\n",
    "review_topics = lda.fit_transform(review_cv)\n",
    "print_top_words(lda,vec.get_feature_names(), 10)"
   ]
  },
  {
   "cell_type": "code",
   "execution_count": 18,
   "metadata": {},
   "outputs": [
    {
     "name": "stdout",
     "output_type": "stream",
     "text": [
      "topic-word distribution dimension: (50, 1000)\n",
      "Cluster label: [0 0 1 3 0 0 0 0 0 0 0 2 0 1 0 0 0 0 0 0 0 0 0 0 0 0 0 0 1 0 0 1 0 0 0 0 0\n",
      " 0 0 0 0 0 1 0 4 0 0 0 0 0]\n"
     ]
    }
   ],
   "source": [
    "#50개의 topic들을 대상으로 clustering을 수행해서 topic들이 잘 묶을 수 있는지 확인\n",
    "\n",
    "from sklearn.cluster import KMeans\n",
    "\n",
    "kmeans = KMeans(n_clusters=5) #5개 클러스터로 분류\n",
    "kmeans.fit(lda.components_)\n",
    "\n",
    "print('topic-word distribution dimension:', lda.components_.shape)\n",
    "print('Cluster label:', kmeans.labels_)"
   ]
  },
  {
   "cell_type": "code",
   "execution_count": 19,
   "metadata": {},
   "outputs": [
    {
     "name": "stdout",
     "output_type": "stream",
     "text": [
      "TSNE dimension: (50, 2)\n"
     ]
    },
    {
     "data": {
      "text/plain": [
       "array([-4.88301048e+01,  6.34300652e+01, -7.28572006e+01,  9.79956818e+01,\n",
       "       -9.06246109e+01,  3.61191292e+01,  3.26641502e+01, -1.95331059e+01,\n",
       "       -8.86495972e+01,  9.32368851e+00,  3.21016769e+01, -4.99238968e+01,\n",
       "       -4.87040138e+01,  4.59745102e+01, -4.76231909e+00,  3.07040367e+01,\n",
       "       -8.36440399e-02, -8.07735729e+00, -2.79617863e+01,  3.81520615e+01,\n",
       "       -9.41551590e+01,  1.04524963e+02, -2.80229664e+01, -5.03675652e+01,\n",
       "       -2.68979988e+01, -9.16035271e+00, -5.35004883e+01, -6.16735458e+00,\n",
       "       -1.03167244e+02, -6.03794212e+01,  5.55972977e+01,  6.48748703e+01,\n",
       "       -4.71831055e+01, -8.81362076e+01,  6.27913551e+01, -1.87514343e+01,\n",
       "        1.15402622e+01,  1.25831032e+01,  1.02774513e+02,  2.37098083e+01,\n",
       "        1.11545897e+01,  3.37123756e+01, -7.45113611e+00, -8.10281181e+00,\n",
       "        7.16186905e+01, -2.54178448e+01,  7.44996948e+01, -2.94790878e+01,\n",
       "        1.33399277e+01,  2.19977417e+01], dtype=float32)"
      ]
     },
     "execution_count": 19,
     "metadata": {},
     "output_type": "execute_result"
    }
   ],
   "source": [
    "#T-SNE를 이용하여 각 topic들 간의 관계를 시각화\n",
    "\n",
    "from sklearn.manifold import TSNE\n",
    "tsne = TSNE(n_components=2, random_state=42)\n",
    "tsne_review = tsne.fit_transform(lda.components_)\n",
    "print('TSNE dimension:', tsne_review.shape)\n",
    "tsne_review[:,0]"
   ]
  },
  {
   "cell_type": "code",
   "execution_count": 20,
   "metadata": {},
   "outputs": [],
   "source": [
    "%matplotlib inline\n",
    "import matplotlib.pyplot as plt\n",
    "from matplotlib import font_manager, rc\n",
    "font_name = font_manager.FontProperties(fname=\"c:/Windows/Fonts/malgun.ttf\").get_name()\n",
    "rc('font', family=font_name)\n",
    "import matplotlib as mpl\n",
    "\n",
    "# 그래프에서 마이너스 폰트 깨지는 문제에 대한 대처\n",
    "mpl.rcParams['axes.unicode_minus'] = False"
   ]
  },
  {
   "cell_type": "code",
   "execution_count": 21,
   "metadata": {},
   "outputs": [
    {
     "data": {
      "image/png": "[encoded data removed]",
      "text/plain": [
       "<Figure size 432x288 with 1 Axes>"
      ]
     },
     "metadata": {
      "needs_background": "light"
     },
     "output_type": "display_data"
    },
    {
     "data": {
      "image/png": "[encoded data removed]",
      "text/plain": [
       "<Figure size 1080x720 with 1 Axes>"
      ]
     },
     "metadata": {
      "needs_background": "light"
     },
     "output_type": "display_data"
    }
   ],
   "source": [
    "colors = {0:'blue', 1:'yellow', 2:'red', 3:'green', 4:'purple'}\n",
    "x1 = tsne_review[:,0]\n",
    "x2 = tsne_review[:,1]\n",
    "plt.scatter(x1, x2)\n",
    "\n",
    "plt.figure(figsize=(15,10))\n",
    "plt.xlim(min(x1), max(x1))\n",
    "plt.ylim(min(x2), max(x2))\n",
    "for i in range(len(x1)):\n",
    "#    plt.text(X1_lsi[i], X2_lsi[i], sample_label[i],\n",
    "#            color = colors[sample_label[i]])\n",
    "    plt.text(x1[i], x2[i], kmeans.labels_[i],\n",
    "            color = colors[kmeans.labels_[i]])\n",
    "\n",
    "#for word, pos in df.iterrows():\n",
    "#    ax.annotate(word, pos, fontsize=30)\n",
    "plt.show()"
   ]
  },
  {
   "cell_type": "code",
   "execution_count": 22,
   "metadata": {},
   "outputs": [
    {
     "data": {
      "text/plain": [
       "1316.2247453286498"
      ]
     },
     "execution_count": 22,
     "metadata": {},
     "output_type": "execute_result"
    }
   ],
   "source": [
    "#최적의 결과를 찾기 위한 방법\n",
    "\n",
    "lda.perplexity(review_cv)"
   ]
  },
  {
   "cell_type": "code",
   "execution_count": 23,
   "metadata": {},
   "outputs": [
    {
     "name": "stdout",
     "output_type": "stream",
     "text": [
      "Topic #0: 공포영화, 시간, 중간, 몰입, 애니메이션, 곤지암, 명작, 긴장감, 영화, 후회\n",
      "Topic #1: 사랑, 처음, 현실, 전혀, 반전, 뮤지컬, 남자, 가슴, 스톤, 갈수록\n",
      "Topic #2: 영화, 스토리, 모두, 하정우, 멕시코, 시나리오, 원래, 신파극, 갑자기, 역할\n",
      "Topic #3: 진짜, 눈물, 대한, 웹툰, 실망, 아주, 영화, 소문, 재판, 잘만\n",
      "Topic #4: 정말, 감독, 영화, 소리, 시작, 알바, 차라리, 우리나라, 표절, 무서움\n",
      "Topic #5: 재미, 결말, 완전, 보기, 영화, 히어로, 이해, 여자, 어른, 표현\n",
      "Topic #6: 가족, 역시, 코코, 노래, 원작, 아이, 중반, 전개, 이후, 설정\n",
      "Topic #7: 평점, 느낌, 영화, 최악, 엔딩, 펑펑, 짜증, 귀신, 후반, 레이브\n",
      "Topic #8: 공포, 정도, 액션, 미국, 조상, 할머니, 영화로, 한번, 스케일, 오히려\n",
      "Topic #9: 연기, 배우, 그냥, 신파, 영화, 연기력, 관람, 이하, 사람, 아쉬움\n",
      "Topic #10: 영화, 음악, 가장, 픽사, 영화관, 화면, 외국, 환상, 매력, 도대체\n",
      "Topic #11: 감동, 영화, 별로, 조금, 겨울왕국, 억지, 이제, 존재, 인상, 상상력\n",
      "Topic #12: 장면, 영화, 관객, 이건, 기억, 마음, 초반, 엄마, 애니, 감정\n",
      "Topic #13: 최고, 영화, 만화, 쓰레기, 서로, 의미, 호러, 시리즈, 제대로, 기분\n",
      "Topic #14: 영화, 천만, 보지, 다른, 집중, 극장, 죽음, 대박, 제발, 점수\n",
      "Topic #15: 영화, 어벤져스, 인간, 모든, 기억, 거의, 뭔가, 무엇, 거기, 관객수\n",
      "Topic #16: 영화, 개인, 감동, 추천, 여운, 마무리, 블레어, 결론, 유치, 해도\n",
      "Topic #17: 다시, 때문, 김동욱, 나름, 위해, 절대, 자체, 웃음, 거리, 가면\n",
      "Topic #18: 내용, 이야기, 작품, 연출, 마지막, 영화, 이영화, 주인공, 예상, 나중\n",
      "Topic #19: 마블, 기대, 노스, 다음, 이상, 계속, 노력, 영화, 번역, 재미\n",
      "Topic #20: 마지막, 영상, 캐릭터, 저승, 아들, 문제, 영화, 공감, 천만이, 상미\n",
      "Topic #21: 사람, 생각, 보고, 인생, 어머니, 편이, 지옥, 이유, 주지훈, 자홍\n",
      "Topic #22: 영화, 다큐, 지금, 페이크, 제일, 시간, 상영, 등장, 얘기, 드라마\n",
      "Topic #23: 한국, 귀신, 부분, 차태현, 소재, 얼굴, 혼자, 우리, 공포영화, 카메라\n",
      "Topic #24: 수준, 디즈니, 하나, 영화, 한국영, 이해, 애니, 그래픽, 매우, 대사\n",
      "\n"
     ]
    },
    {
     "data": {
      "text/plain": [
       "974.2235632325254"
      ]
     },
     "execution_count": 23,
     "metadata": {},
     "output_type": "execute_result"
    }
   ],
   "source": [
    "#topic modeling 수행\n",
    "lda = LatentDirichletAllocation(n_components = 25, max_iter=25, \n",
    "                                topic_word_prior= 0.1, doc_topic_prior=2.0,\n",
    "                                learning_method='batch',\n",
    "                                n_jobs= -1,\n",
    "                                random_state=0)\n",
    "review_topics = lda.fit_transform(review_cv)\n",
    "print_top_words(lda,vec.get_feature_names(), 10)\n",
    "lda.perplexity(review_cv)"
   ]
  },
  {
   "cell_type": "code",
   "execution_count": 24,
   "metadata": {},
   "outputs": [
    {
     "name": "stdout",
     "output_type": "stream",
     "text": [
      "Topic #0: 스토리, 이해, 노스, 어벤져스, 대한, 몰입, 히어로, 애니메이션, 다큐, 명작\n",
      "Topic #1: 생각, 사랑, 느낌, 기대, 인생, 현실, 결말, 마지막, 다시, 조금\n",
      "Topic #2: 영화, 사람, 감독, 부분, 이건, 전혀, 최악, 웹툰, 모든, 가장\n",
      "Topic #3: 진짜, 눈물, 보고, 마블, 최고, 작품, 다음, 영화, 어머니, 엄마\n",
      "Topic #4: 정말, 연기, 그냥, 배우, 영화, 차태현, 완전, 집중, 김동욱, 계속\n",
      "Topic #5: 감동, 재미, 디즈니, 때문, 영화, 아이, 영상, 천만, 소재, 관객\n",
      "Topic #6: 가족, 음악, 마지막, 기억, 장면, 이야기, 코코, 노래, 원작, 애니\n",
      "Topic #7: 평점, 귀신, 처음, 영화, 연출, 곤지암, 나름, 초반, 엔딩, 후반\n",
      "Topic #8: 공포, 정도, 공포영화, 한국, 하나, 중간, 별로, 소리, 만화, 얼굴\n",
      "Topic #9: 영화, 시간, 내용, 역시, 수준, 개인, 보기, 보지, 다른, 이상\n",
      "\n"
     ]
    },
    {
     "data": {
      "text/plain": [
       "646.2320066507945"
      ]
     },
     "execution_count": 24,
     "metadata": {},
     "output_type": "execute_result"
    }
   ],
   "source": [
    "#topic modeling 수행\n",
    "lda = LatentDirichletAllocation(n_components = 10, max_iter=25, \n",
    "                                topic_word_prior= 0.1, doc_topic_prior=1.0,\n",
    "                                learning_method='batch',\n",
    "                                n_jobs= -1,\n",
    "                                random_state=0)\n",
    "review_topics = lda.fit_transform(review_cv)\n",
    "print_top_words(lda,vec.get_feature_names(), 10)\n",
    "lda.perplexity(review_cv)"
   ]
  },
  {
   "cell_type": "code",
   "execution_count": null,
   "metadata": {},
   "outputs": [],
   "source": []
  }
 ],
 "metadata": {
  "kernelspec": {
   "display_name": "Python 3",
   "language": "python",
   "name": "python3"
  },
  "language_info": {
   "codemirror_mode": {
    "name": "ipython",
    "version": 3
   },
   "file_extension": ".py",
   "mimetype": "text/x-python",
   "name": "python",
   "nbconvert_exporter": "python",
   "pygments_lexer": "ipython3",
   "version": "3.8.3"
  }
 },
 "nbformat": 4,
 "nbformat_minor": 2
}
